{
  "cells": [
    {
      "cell_type": "markdown",
      "metadata": {
        "colab_type": "text",
        "id": "view-in-github"
      },
      "source": [
        "<a href=\"https://colab.research.google.com/github/rebeca53/PaleBlueDotVisualizationChallenge/blob/main/Pale_Blue_Dot_Visualization_Challenge.ipynb\" target=\"_parent\"><img src=\"https://colab.research.google.com/assets/colab-badge.svg\" alt=\"Open In Colab\"/></a>"
      ]
    },
    {
      "cell_type": "code",
      "execution_count": null,
      "metadata": {
        "id": "O68Jk2Izy3j-"
      },
      "outputs": [
        {
          "name": "stdout",
          "output_type": "stream",
          "text": [
            "hi\n"
          ]
        }
      ],
      "source": [
        "print(\"hi\")"
      ]
    },
    {
      "cell_type": "markdown",
      "metadata": {},
      "source": [
        "1. Wetlands emitting methane\n",
        "2. Methane increases the global temperature\n",
        "3. The warming causes the wetlands to emmit more methane\n",
        "\n",
        "https://www.carbonbrief.org/exceptional-surge-in-methane-emissions-from-wetlands-worries-scientists/"
      ]
    },
    {
      "cell_type": "markdown",
      "metadata": {},
      "source": [
        "permafrost wetlands and tropical wetlands.\n",
        "tropical wetlands increase in size due to climate change.\n",
        "\n",
        "THE WETLAND METHANE FEEDBACK\n",
        "\n",
        "there are studies about the methane emission by continent. Main contributors of metahen are Africa and South America.\n",
        "\n",
        "represent wetland methane emissions in models\n",
        "\n",
        "\n",
        "Global Methane Pledge\n",
        "\n",
        "\n",
        "\n"
      ]
    },
    {
      "cell_type": "markdown",
      "metadata": {},
      "source": [
        "https://youtu.be/xgKVyXc-2Eo?si=HyD_KY0uhv-oC29L&t=2061\n",
        "\n",
        "- Sentinel 5p - level 2 product\n",
        "- L2__CH4___\n",
        "- Offline (OFFL) - data grouped by orbit -> netCDF file\n",
        "- S5P_OFFL_L2__CH4___granule-info_orbit-namber_collectionnumber_versionnumber\n",
        "\n",
        "\n",
        "Look for: Sentinel-5 precursor/TROPOMI Level 2 Product User Manual Methane\n"
      ]
    },
    {
      "cell_type": "markdown",
      "metadata": {},
      "source": [
        "1. Download Sentinel 5P\n",
        "\n",
        "https://dataspace.copernicus.eu/explore-data/data-collections/sentinel-data/sentinel-5p\n",
        "\n",
        "https://documentation.dataspace.copernicus.eu/Data/SentinelMissions/Sentinel5P.html#sentinel-5p-level-2-methane\n",
        "\n",
        "S5P_OFFL_L2__CH4____20240116T181339_20240116T195510_32438_03_020600_20240118T103812.nc\n",
        "Mission:\n",
        "SENTINEL-5P\n",
        "Instrument:\n",
        "TROPOMI\n",
        "Size:\n",
        "72MB\n",
        "Sensing time:\n",
        "2024-01-16T18:35:14.000Z\n",
        "\n",
        "https://zipper.dataspace.copernicus.eu/odata/v1/Products(40c2badc-b225-4a05-bce9-ccbb9ec245b1)/$value\n",
        "\n",
        "\n",
        "\n",
        "S5P_RPRO_L2__CH4____20180502T181826_20180502T195957_02857_03_020400_20221107T155628.nc\n",
        "Mission:\n",
        "SENTINEL-5P\n",
        "Instrument:\n",
        "TROPOMI\n",
        "Size:\n",
        "47MB\n",
        "Sensing time:\n",
        "2018-05-02T18:40:01.000Z\n",
        "\n",
        "https://zipper.dataspace.copernicus.eu/odata/v1/Products(c51a334b-6b98-497e-944f-1cebb6c6112c)/$value\n",
        "\n"
      ]
    },
    {
      "cell_type": "markdown",
      "metadata": {},
      "source": []
    }
  ],
  "metadata": {
    "colab": {
      "authorship_tag": "ABX9TyOkat3nKsa1qYeCopiMDm+i",
      "include_colab_link": true,
      "provenance": []
    },
    "kernelspec": {
      "display_name": "Python 3",
      "name": "python3"
    },
    "language_info": {
      "codemirror_mode": {
        "name": "ipython",
        "version": 3
      },
      "file_extension": ".py",
      "mimetype": "text/x-python",
      "name": "python",
      "nbconvert_exporter": "python",
      "pygments_lexer": "ipython3",
      "version": "3.10.13"
    }
  },
  "nbformat": 4,
  "nbformat_minor": 0
}
